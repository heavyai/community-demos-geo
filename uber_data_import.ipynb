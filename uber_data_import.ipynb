{
 "cells": [
  {
   "cell_type": "markdown",
   "metadata": {},
   "source": [
    "### Import Uber Movement Origin Distination Hourly Data"
   ]
  },
  {
   "cell_type": "markdown",
   "metadata": {},
   "source": [
    "Uber origin destination zone data from the Movement project.  Each file contains hourly data, with one file for \"am\" times and another for \"pm\" times.<p>\n",
    "    The first two columns of the data represent an origin zone and a destination zone.  These are followed by travel time statistics.<p>"
   ]
  },
  {
   "cell_type": "code",
   "execution_count": 1,
   "metadata": {
    "ExecuteTime": {
     "end_time": "2018-11-03T06:40:55.710053Z",
     "start_time": "2018-11-03T06:40:55.532401Z"
    }
   },
   "outputs": [
    {
     "name": "stderr",
     "output_type": "stream",
     "text": [
      "/home/mapdadmin/miniconda3/envs/flaxman2/lib/python3.5/importlib/_bootstrap.py:222: RuntimeWarning: numpy.dtype size changed, may indicate binary incompatibility. Expected 96, got 88\n",
      "  return f(*args, **kwds)\n",
      "/home/mapdadmin/miniconda3/envs/flaxman2/lib/python3.5/importlib/_bootstrap.py:222: RuntimeWarning: numpy.dtype size changed, may indicate binary incompatibility. Expected 96, got 88\n",
      "  return f(*args, **kwds)\n"
     ]
    }
   ],
   "source": [
    "import pandas as pd\n",
    "from datetime import datetime"
   ]
  },
  {
   "cell_type": "code",
   "execution_count": 2,
   "metadata": {
    "ExecuteTime": {
     "end_time": "2018-11-03T06:40:56.825065Z",
     "start_time": "2018-11-03T06:40:56.710276Z"
    }
   },
   "outputs": [
    {
     "name": "stdout",
     "output_type": "stream",
     "text": [
      "20170101a.csv  20170101b.csv  20170210a_nocr.csv\r\n"
     ]
    }
   ],
   "source": [
    "!ls *.csv"
   ]
  },
  {
   "cell_type": "code",
   "execution_count": 3,
   "metadata": {
    "ExecuteTime": {
     "end_time": "2018-11-03T06:41:07.957369Z",
     "start_time": "2018-11-03T06:41:07.191594Z"
    }
   },
   "outputs": [],
   "source": [
    "date_in_filename = '20170101'\n",
    "uber_csv = '{}a.csv'.format(date_in_filename)\n",
    "df = pd.read_csv(uber_csv)"
   ]
  },
  {
   "cell_type": "code",
   "execution_count": 4,
   "metadata": {
    "ExecuteTime": {
     "end_time": "2018-11-03T06:41:08.001605Z",
     "start_time": "2018-11-03T06:41:07.980956Z"
    },
    "scrolled": true
   },
   "outputs": [
    {
     "data": {
      "text/html": [
       "<div>\n",
       "<style scoped>\n",
       "    .dataframe tbody tr th:only-of-type {\n",
       "        vertical-align: middle;\n",
       "    }\n",
       "\n",
       "    .dataframe tbody tr th {\n",
       "        vertical-align: top;\n",
       "    }\n",
       "\n",
       "    .dataframe thead th {\n",
       "        text-align: right;\n",
       "    }\n",
       "</style>\n",
       "<table border=\"1\" class=\"dataframe\">\n",
       "  <thead>\n",
       "    <tr style=\"text-align: right;\">\n",
       "      <th></th>\n",
       "      <th>sourceid</th>\n",
       "      <th>dstid</th>\n",
       "      <th>mov_year</th>\n",
       "      <th>mov_month</th>\n",
       "      <th>mov_day</th>\n",
       "      <th>mov_hod</th>\n",
       "      <th>tt_mean</th>\n",
       "      <th>tt_sd</th>\n",
       "      <th>tt_g_mean</th>\n",
       "      <th>tt_g_sd</th>\n",
       "    </tr>\n",
       "  </thead>\n",
       "  <tbody>\n",
       "    <tr>\n",
       "      <th>0</th>\n",
       "      <td>2074</td>\n",
       "      <td>1860</td>\n",
       "      <td>2017</td>\n",
       "      <td>1</td>\n",
       "      <td>1</td>\n",
       "      <td>2</td>\n",
       "      <td>1314.00</td>\n",
       "      <td>1211.32</td>\n",
       "      <td>951.35</td>\n",
       "      <td>2.10</td>\n",
       "    </tr>\n",
       "    <tr>\n",
       "      <th>1</th>\n",
       "      <td>2022</td>\n",
       "      <td>2042</td>\n",
       "      <td>2017</td>\n",
       "      <td>1</td>\n",
       "      <td>1</td>\n",
       "      <td>1</td>\n",
       "      <td>78.67</td>\n",
       "      <td>35.60</td>\n",
       "      <td>73.16</td>\n",
       "      <td>1.42</td>\n",
       "    </tr>\n",
       "    <tr>\n",
       "      <th>2</th>\n",
       "      <td>2044</td>\n",
       "      <td>2092</td>\n",
       "      <td>2017</td>\n",
       "      <td>1</td>\n",
       "      <td>1</td>\n",
       "      <td>2</td>\n",
       "      <td>949.67</td>\n",
       "      <td>1807.45</td>\n",
       "      <td>253.75</td>\n",
       "      <td>3.81</td>\n",
       "    </tr>\n",
       "    <tr>\n",
       "      <th>3</th>\n",
       "      <td>2081</td>\n",
       "      <td>1786</td>\n",
       "      <td>2017</td>\n",
       "      <td>1</td>\n",
       "      <td>1</td>\n",
       "      <td>2</td>\n",
       "      <td>615.33</td>\n",
       "      <td>399.86</td>\n",
       "      <td>533.74</td>\n",
       "      <td>1.62</td>\n",
       "    </tr>\n",
       "    <tr>\n",
       "      <th>4</th>\n",
       "      <td>2054</td>\n",
       "      <td>2092</td>\n",
       "      <td>2017</td>\n",
       "      <td>1</td>\n",
       "      <td>1</td>\n",
       "      <td>1</td>\n",
       "      <td>108.38</td>\n",
       "      <td>134.80</td>\n",
       "      <td>81.02</td>\n",
       "      <td>1.79</td>\n",
       "    </tr>\n",
       "  </tbody>\n",
       "</table>\n",
       "</div>"
      ],
      "text/plain": [
       "   sourceid  dstid  mov_year  mov_month  mov_day  mov_hod  tt_mean    tt_sd  \\\n",
       "0      2074   1860      2017          1        1        2  1314.00  1211.32   \n",
       "1      2022   2042      2017          1        1        1    78.67    35.60   \n",
       "2      2044   2092      2017          1        1        2   949.67  1807.45   \n",
       "3      2081   1786      2017          1        1        2   615.33   399.86   \n",
       "4      2054   2092      2017          1        1        1   108.38   134.80   \n",
       "\n",
       "   tt_g_mean  tt_g_sd  \n",
       "0     951.35     2.10  \n",
       "1      73.16     1.42  \n",
       "2     253.75     3.81  \n",
       "3     533.74     1.62  \n",
       "4      81.02     1.79  "
      ]
     },
     "execution_count": 4,
     "metadata": {},
     "output_type": "execute_result"
    }
   ],
   "source": [
    "df.head()"
   ]
  },
  {
   "cell_type": "code",
   "execution_count": 5,
   "metadata": {
    "ExecuteTime": {
     "end_time": "2018-11-03T06:41:08.542976Z",
     "start_time": "2018-11-03T06:41:08.020049Z"
    },
    "scrolled": true
   },
   "outputs": [
    {
     "data": {
      "text/html": [
       "<div>\n",
       "<style scoped>\n",
       "    .dataframe tbody tr th:only-of-type {\n",
       "        vertical-align: middle;\n",
       "    }\n",
       "\n",
       "    .dataframe tbody tr th {\n",
       "        vertical-align: top;\n",
       "    }\n",
       "\n",
       "    .dataframe thead th {\n",
       "        text-align: right;\n",
       "    }\n",
       "</style>\n",
       "<table border=\"1\" class=\"dataframe\">\n",
       "  <thead>\n",
       "    <tr style=\"text-align: right;\">\n",
       "      <th></th>\n",
       "      <th>sourceid</th>\n",
       "      <th>dstid</th>\n",
       "      <th>mov_year</th>\n",
       "      <th>mov_month</th>\n",
       "      <th>mov_day</th>\n",
       "      <th>mov_hod</th>\n",
       "      <th>tt_mean</th>\n",
       "      <th>tt_sd</th>\n",
       "      <th>tt_g_mean</th>\n",
       "      <th>tt_g_sd</th>\n",
       "    </tr>\n",
       "  </thead>\n",
       "  <tbody>\n",
       "    <tr>\n",
       "      <th>count</th>\n",
       "      <td>959217.000000</td>\n",
       "      <td>959217.000000</td>\n",
       "      <td>959217.0</td>\n",
       "      <td>959217.0</td>\n",
       "      <td>959217.0</td>\n",
       "      <td>959217.000000</td>\n",
       "      <td>959217.000000</td>\n",
       "      <td>959217.000000</td>\n",
       "      <td>959217.000000</td>\n",
       "      <td>959217.000000</td>\n",
       "    </tr>\n",
       "    <tr>\n",
       "      <th>mean</th>\n",
       "      <td>4236.862684</td>\n",
       "      <td>4370.537264</td>\n",
       "      <td>2017.0</td>\n",
       "      <td>1.0</td>\n",
       "      <td>1.0</td>\n",
       "      <td>4.551861</td>\n",
       "      <td>542.675464</td>\n",
       "      <td>188.223773</td>\n",
       "      <td>508.225665</td>\n",
       "      <td>1.527702</td>\n",
       "    </tr>\n",
       "    <tr>\n",
       "      <th>std</th>\n",
       "      <td>1010.504381</td>\n",
       "      <td>1047.493005</td>\n",
       "      <td>0.0</td>\n",
       "      <td>0.0</td>\n",
       "      <td>0.0</td>\n",
       "      <td>3.527610</td>\n",
       "      <td>441.628853</td>\n",
       "      <td>181.833761</td>\n",
       "      <td>433.175388</td>\n",
       "      <td>0.503856</td>\n",
       "    </tr>\n",
       "    <tr>\n",
       "      <th>min</th>\n",
       "      <td>964.000000</td>\n",
       "      <td>911.000000</td>\n",
       "      <td>2017.0</td>\n",
       "      <td>1.0</td>\n",
       "      <td>1.0</td>\n",
       "      <td>1.000000</td>\n",
       "      <td>2.400000</td>\n",
       "      <td>0.370000</td>\n",
       "      <td>2.030000</td>\n",
       "      <td>1.000000</td>\n",
       "    </tr>\n",
       "    <tr>\n",
       "      <th>25%</th>\n",
       "      <td>3620.000000</td>\n",
       "      <td>3675.000000</td>\n",
       "      <td>2017.0</td>\n",
       "      <td>1.0</td>\n",
       "      <td>1.0</td>\n",
       "      <td>2.000000</td>\n",
       "      <td>232.860000</td>\n",
       "      <td>91.790000</td>\n",
       "      <td>201.300000</td>\n",
       "      <td>1.240000</td>\n",
       "    </tr>\n",
       "    <tr>\n",
       "      <th>50%</th>\n",
       "      <td>3909.000000</td>\n",
       "      <td>4077.000000</td>\n",
       "      <td>2017.0</td>\n",
       "      <td>1.0</td>\n",
       "      <td>1.0</td>\n",
       "      <td>3.000000</td>\n",
       "      <td>427.600000</td>\n",
       "      <td>156.560000</td>\n",
       "      <td>392.970000</td>\n",
       "      <td>1.390000</td>\n",
       "    </tr>\n",
       "    <tr>\n",
       "      <th>75%</th>\n",
       "      <td>4646.000000</td>\n",
       "      <td>5114.000000</td>\n",
       "      <td>2017.0</td>\n",
       "      <td>1.0</td>\n",
       "      <td>1.0</td>\n",
       "      <td>8.000000</td>\n",
       "      <td>716.720000</td>\n",
       "      <td>240.240000</td>\n",
       "      <td>680.480000</td>\n",
       "      <td>1.640000</td>\n",
       "    </tr>\n",
       "    <tr>\n",
       "      <th>max</th>\n",
       "      <td>7098.000000</td>\n",
       "      <td>7101.000000</td>\n",
       "      <td>2017.0</td>\n",
       "      <td>1.0</td>\n",
       "      <td>1.0</td>\n",
       "      <td>11.000000</td>\n",
       "      <td>4953.670000</td>\n",
       "      <td>5022.180000</td>\n",
       "      <td>4686.930000</td>\n",
       "      <td>22.130000</td>\n",
       "    </tr>\n",
       "  </tbody>\n",
       "</table>\n",
       "</div>"
      ],
      "text/plain": [
       "            sourceid          dstid  mov_year  mov_month   mov_day  \\\n",
       "count  959217.000000  959217.000000  959217.0   959217.0  959217.0   \n",
       "mean     4236.862684    4370.537264    2017.0        1.0       1.0   \n",
       "std      1010.504381    1047.493005       0.0        0.0       0.0   \n",
       "min       964.000000     911.000000    2017.0        1.0       1.0   \n",
       "25%      3620.000000    3675.000000    2017.0        1.0       1.0   \n",
       "50%      3909.000000    4077.000000    2017.0        1.0       1.0   \n",
       "75%      4646.000000    5114.000000    2017.0        1.0       1.0   \n",
       "max      7098.000000    7101.000000    2017.0        1.0       1.0   \n",
       "\n",
       "             mov_hod        tt_mean          tt_sd      tt_g_mean  \\\n",
       "count  959217.000000  959217.000000  959217.000000  959217.000000   \n",
       "mean        4.551861     542.675464     188.223773     508.225665   \n",
       "std         3.527610     441.628853     181.833761     433.175388   \n",
       "min         1.000000       2.400000       0.370000       2.030000   \n",
       "25%         2.000000     232.860000      91.790000     201.300000   \n",
       "50%         3.000000     427.600000     156.560000     392.970000   \n",
       "75%         8.000000     716.720000     240.240000     680.480000   \n",
       "max        11.000000    4953.670000    5022.180000    4686.930000   \n",
       "\n",
       "             tt_g_sd  \n",
       "count  959217.000000  \n",
       "mean        1.527702  \n",
       "std         0.503856  \n",
       "min         1.000000  \n",
       "25%         1.240000  \n",
       "50%         1.390000  \n",
       "75%         1.640000  \n",
       "max        22.130000  "
      ]
     },
     "execution_count": 5,
     "metadata": {},
     "output_type": "execute_result"
    }
   ],
   "source": [
    "df.describe()"
   ]
  },
  {
   "cell_type": "code",
   "execution_count": 6,
   "metadata": {
    "ExecuteTime": {
     "end_time": "2018-11-03T06:41:08.563422Z",
     "start_time": "2018-11-03T06:41:08.560811Z"
    }
   },
   "outputs": [],
   "source": [
    "# make a datetime field in default ISO format \n",
    "# which Omnisci will recognize\n",
    "# 2018-11-02T17:45:51+00:00"
   ]
  },
  {
   "cell_type": "code",
   "execution_count": 7,
   "metadata": {
    "ExecuteTime": {
     "end_time": "2018-11-03T06:41:09.275323Z",
     "start_time": "2018-11-03T06:41:08.793672Z"
    }
   },
   "outputs": [],
   "source": [
    "df[\"ts\"] = [datetime(mov_year, mov_month, mov_day, mov_hod) for mov_year, mov_month, mov_day, mov_hod in zip(df.mov_year, df.mov_month, df.mov_day, df.mov_hod)]"
   ]
  },
  {
   "cell_type": "code",
   "execution_count": 8,
   "metadata": {
    "ExecuteTime": {
     "end_time": "2018-11-03T06:41:09.316494Z",
     "start_time": "2018-11-03T06:41:09.296270Z"
    }
   },
   "outputs": [],
   "source": [
    "# must drop at least year since it is a reserved word\n",
    "df.drop(columns=['mov_year', 'mov_month','mov_day','mov_hod'],inplace=True)"
   ]
  },
  {
   "cell_type": "code",
   "execution_count": 9,
   "metadata": {
    "ExecuteTime": {
     "end_time": "2018-11-03T06:41:09.598809Z",
     "start_time": "2018-11-03T06:41:09.587395Z"
    }
   },
   "outputs": [
    {
     "data": {
      "text/html": [
       "<div>\n",
       "<style scoped>\n",
       "    .dataframe tbody tr th:only-of-type {\n",
       "        vertical-align: middle;\n",
       "    }\n",
       "\n",
       "    .dataframe tbody tr th {\n",
       "        vertical-align: top;\n",
       "    }\n",
       "\n",
       "    .dataframe thead th {\n",
       "        text-align: right;\n",
       "    }\n",
       "</style>\n",
       "<table border=\"1\" class=\"dataframe\">\n",
       "  <thead>\n",
       "    <tr style=\"text-align: right;\">\n",
       "      <th></th>\n",
       "      <th>sourceid</th>\n",
       "      <th>dstid</th>\n",
       "      <th>tt_mean</th>\n",
       "      <th>tt_sd</th>\n",
       "      <th>tt_g_mean</th>\n",
       "      <th>tt_g_sd</th>\n",
       "      <th>ts</th>\n",
       "    </tr>\n",
       "  </thead>\n",
       "  <tbody>\n",
       "    <tr>\n",
       "      <th>0</th>\n",
       "      <td>2074</td>\n",
       "      <td>1860</td>\n",
       "      <td>1314.00</td>\n",
       "      <td>1211.32</td>\n",
       "      <td>951.35</td>\n",
       "      <td>2.10</td>\n",
       "      <td>2017-01-01 02:00:00</td>\n",
       "    </tr>\n",
       "    <tr>\n",
       "      <th>1</th>\n",
       "      <td>2022</td>\n",
       "      <td>2042</td>\n",
       "      <td>78.67</td>\n",
       "      <td>35.60</td>\n",
       "      <td>73.16</td>\n",
       "      <td>1.42</td>\n",
       "      <td>2017-01-01 01:00:00</td>\n",
       "    </tr>\n",
       "    <tr>\n",
       "      <th>2</th>\n",
       "      <td>2044</td>\n",
       "      <td>2092</td>\n",
       "      <td>949.67</td>\n",
       "      <td>1807.45</td>\n",
       "      <td>253.75</td>\n",
       "      <td>3.81</td>\n",
       "      <td>2017-01-01 02:00:00</td>\n",
       "    </tr>\n",
       "    <tr>\n",
       "      <th>3</th>\n",
       "      <td>2081</td>\n",
       "      <td>1786</td>\n",
       "      <td>615.33</td>\n",
       "      <td>399.86</td>\n",
       "      <td>533.74</td>\n",
       "      <td>1.62</td>\n",
       "      <td>2017-01-01 02:00:00</td>\n",
       "    </tr>\n",
       "    <tr>\n",
       "      <th>4</th>\n",
       "      <td>2054</td>\n",
       "      <td>2092</td>\n",
       "      <td>108.38</td>\n",
       "      <td>134.80</td>\n",
       "      <td>81.02</td>\n",
       "      <td>1.79</td>\n",
       "      <td>2017-01-01 01:00:00</td>\n",
       "    </tr>\n",
       "  </tbody>\n",
       "</table>\n",
       "</div>"
      ],
      "text/plain": [
       "   sourceid  dstid  tt_mean    tt_sd  tt_g_mean  tt_g_sd                  ts\n",
       "0      2074   1860  1314.00  1211.32     951.35     2.10 2017-01-01 02:00:00\n",
       "1      2022   2042    78.67    35.60      73.16     1.42 2017-01-01 01:00:00\n",
       "2      2044   2092   949.67  1807.45     253.75     3.81 2017-01-01 02:00:00\n",
       "3      2081   1786   615.33   399.86     533.74     1.62 2017-01-01 02:00:00\n",
       "4      2054   2092   108.38   134.80      81.02     1.79 2017-01-01 01:00:00"
      ]
     },
     "execution_count": 9,
     "metadata": {},
     "output_type": "execute_result"
    }
   ],
   "source": [
    "df.head()"
   ]
  },
  {
   "cell_type": "markdown",
   "metadata": {},
   "source": [
    "### Special case processing for the 'b' file"
   ]
  },
  {
   "cell_type": "markdown",
   "metadata": {},
   "source": [
    "This represents pm, but data values already on 24 hour clock"
   ]
  },
  {
   "cell_type": "code",
   "execution_count": 18,
   "metadata": {
    "ExecuteTime": {
     "end_time": "2018-11-03T06:44:40.114268Z",
     "start_time": "2018-11-03T06:44:39.412372Z"
    }
   },
   "outputs": [],
   "source": [
    "uber_csv = '{}b.csv'.format(date_in_filename)\n",
    "df_pm = pd.read_csv(uber_csv)"
   ]
  },
  {
   "cell_type": "code",
   "execution_count": 19,
   "metadata": {
    "ExecuteTime": {
     "end_time": "2018-11-03T06:44:40.247097Z",
     "start_time": "2018-11-03T06:44:40.188577Z"
    }
   },
   "outputs": [
    {
     "data": {
      "text/plain": [
       "count    947957.000000\n",
       "mean         17.302091\n",
       "std           3.362363\n",
       "min          12.000000\n",
       "25%          14.000000\n",
       "50%          17.000000\n",
       "75%          20.000000\n",
       "max          23.000000\n",
       "Name: mov_hod, dtype: float64"
      ]
     },
     "execution_count": 19,
     "metadata": {},
     "output_type": "execute_result"
    }
   ],
   "source": [
    "df_pm['mov_hod'].describe()"
   ]
  },
  {
   "cell_type": "code",
   "execution_count": 20,
   "metadata": {
    "ExecuteTime": {
     "end_time": "2018-11-03T06:44:50.512795Z",
     "start_time": "2018-11-03T06:44:50.042153Z"
    }
   },
   "outputs": [],
   "source": [
    "df_pm[\"ts\"] = [datetime(mov_year, mov_month, mov_day, mov_hod) for mov_year, mov_month, mov_day, mov_hod in zip(df_pm.mov_year, df_pm.mov_month, df_pm.mov_day, df_pm.mov_hod)]"
   ]
  },
  {
   "cell_type": "code",
   "execution_count": 21,
   "metadata": {
    "ExecuteTime": {
     "end_time": "2018-11-03T06:44:51.738631Z",
     "start_time": "2018-11-03T06:44:51.723326Z"
    }
   },
   "outputs": [],
   "source": [
    "df_pm.drop(columns=['mov_year', 'mov_month','mov_day','mov_hod'],inplace=True)"
   ]
  },
  {
   "cell_type": "code",
   "execution_count": 22,
   "metadata": {
    "ExecuteTime": {
     "end_time": "2018-11-03T06:44:53.769498Z",
     "start_time": "2018-11-03T06:44:53.757665Z"
    }
   },
   "outputs": [
    {
     "data": {
      "text/html": [
       "<div>\n",
       "<style scoped>\n",
       "    .dataframe tbody tr th:only-of-type {\n",
       "        vertical-align: middle;\n",
       "    }\n",
       "\n",
       "    .dataframe tbody tr th {\n",
       "        vertical-align: top;\n",
       "    }\n",
       "\n",
       "    .dataframe thead th {\n",
       "        text-align: right;\n",
       "    }\n",
       "</style>\n",
       "<table border=\"1\" class=\"dataframe\">\n",
       "  <thead>\n",
       "    <tr style=\"text-align: right;\">\n",
       "      <th></th>\n",
       "      <th>sourceid</th>\n",
       "      <th>dstid</th>\n",
       "      <th>tt_mean</th>\n",
       "      <th>tt_sd</th>\n",
       "      <th>tt_g_mean</th>\n",
       "      <th>tt_g_sd</th>\n",
       "      <th>ts</th>\n",
       "    </tr>\n",
       "  </thead>\n",
       "  <tbody>\n",
       "    <tr>\n",
       "      <th>0</th>\n",
       "      <td>5479</td>\n",
       "      <td>6069</td>\n",
       "      <td>1239.54</td>\n",
       "      <td>155.45</td>\n",
       "      <td>1230.71</td>\n",
       "      <td>1.12</td>\n",
       "      <td>2017-01-01 22:00:00</td>\n",
       "    </tr>\n",
       "    <tr>\n",
       "      <th>1</th>\n",
       "      <td>5339</td>\n",
       "      <td>5245</td>\n",
       "      <td>191.57</td>\n",
       "      <td>12.24</td>\n",
       "      <td>191.17</td>\n",
       "      <td>1.07</td>\n",
       "      <td>2017-01-01 17:00:00</td>\n",
       "    </tr>\n",
       "    <tr>\n",
       "      <th>2</th>\n",
       "      <td>5477</td>\n",
       "      <td>6002</td>\n",
       "      <td>809.38</td>\n",
       "      <td>251.22</td>\n",
       "      <td>776.96</td>\n",
       "      <td>1.32</td>\n",
       "      <td>2017-01-01 22:00:00</td>\n",
       "    </tr>\n",
       "    <tr>\n",
       "      <th>3</th>\n",
       "      <td>5391</td>\n",
       "      <td>5406</td>\n",
       "      <td>221.17</td>\n",
       "      <td>107.12</td>\n",
       "      <td>202.24</td>\n",
       "      <td>1.48</td>\n",
       "      <td>2017-01-01 20:00:00</td>\n",
       "    </tr>\n",
       "    <tr>\n",
       "      <th>4</th>\n",
       "      <td>5353</td>\n",
       "      <td>5758</td>\n",
       "      <td>1041.80</td>\n",
       "      <td>200.95</td>\n",
       "      <td>1026.04</td>\n",
       "      <td>1.18</td>\n",
       "      <td>2017-01-01 22:00:00</td>\n",
       "    </tr>\n",
       "  </tbody>\n",
       "</table>\n",
       "</div>"
      ],
      "text/plain": [
       "   sourceid  dstid  tt_mean   tt_sd  tt_g_mean  tt_g_sd                  ts\n",
       "0      5479   6069  1239.54  155.45    1230.71     1.12 2017-01-01 22:00:00\n",
       "1      5339   5245   191.57   12.24     191.17     1.07 2017-01-01 17:00:00\n",
       "2      5477   6002   809.38  251.22     776.96     1.32 2017-01-01 22:00:00\n",
       "3      5391   5406   221.17  107.12     202.24     1.48 2017-01-01 20:00:00\n",
       "4      5353   5758  1041.80  200.95    1026.04     1.18 2017-01-01 22:00:00"
      ]
     },
     "execution_count": 22,
     "metadata": {},
     "output_type": "execute_result"
    }
   ],
   "source": [
    "df_pm.head()"
   ]
  },
  {
   "cell_type": "code",
   "execution_count": 23,
   "metadata": {
    "ExecuteTime": {
     "end_time": "2018-11-03T06:45:02.359897Z",
     "start_time": "2018-11-03T06:45:02.311958Z"
    }
   },
   "outputs": [],
   "source": [
    "#ok, now hours cannot be conflated, so can just append am and pm tables\n",
    "df = df.append(df_pm, sort=False)"
   ]
  },
  {
   "cell_type": "code",
   "execution_count": 24,
   "metadata": {
    "ExecuteTime": {
     "end_time": "2018-11-03T06:45:03.565764Z",
     "start_time": "2018-11-03T06:45:03.554110Z"
    }
   },
   "outputs": [
    {
     "data": {
      "text/html": [
       "<div>\n",
       "<style scoped>\n",
       "    .dataframe tbody tr th:only-of-type {\n",
       "        vertical-align: middle;\n",
       "    }\n",
       "\n",
       "    .dataframe tbody tr th {\n",
       "        vertical-align: top;\n",
       "    }\n",
       "\n",
       "    .dataframe thead th {\n",
       "        text-align: right;\n",
       "    }\n",
       "</style>\n",
       "<table border=\"1\" class=\"dataframe\">\n",
       "  <thead>\n",
       "    <tr style=\"text-align: right;\">\n",
       "      <th></th>\n",
       "      <th>sourceid</th>\n",
       "      <th>dstid</th>\n",
       "      <th>tt_mean</th>\n",
       "      <th>tt_sd</th>\n",
       "      <th>tt_g_mean</th>\n",
       "      <th>tt_g_sd</th>\n",
       "      <th>ts</th>\n",
       "    </tr>\n",
       "  </thead>\n",
       "  <tbody>\n",
       "    <tr>\n",
       "      <th>0</th>\n",
       "      <td>2074</td>\n",
       "      <td>1860</td>\n",
       "      <td>1314.00</td>\n",
       "      <td>1211.32</td>\n",
       "      <td>951.35</td>\n",
       "      <td>2.10</td>\n",
       "      <td>2017-01-01 02:00:00</td>\n",
       "    </tr>\n",
       "    <tr>\n",
       "      <th>1</th>\n",
       "      <td>2022</td>\n",
       "      <td>2042</td>\n",
       "      <td>78.67</td>\n",
       "      <td>35.60</td>\n",
       "      <td>73.16</td>\n",
       "      <td>1.42</td>\n",
       "      <td>2017-01-01 01:00:00</td>\n",
       "    </tr>\n",
       "    <tr>\n",
       "      <th>2</th>\n",
       "      <td>2044</td>\n",
       "      <td>2092</td>\n",
       "      <td>949.67</td>\n",
       "      <td>1807.45</td>\n",
       "      <td>253.75</td>\n",
       "      <td>3.81</td>\n",
       "      <td>2017-01-01 02:00:00</td>\n",
       "    </tr>\n",
       "    <tr>\n",
       "      <th>3</th>\n",
       "      <td>2081</td>\n",
       "      <td>1786</td>\n",
       "      <td>615.33</td>\n",
       "      <td>399.86</td>\n",
       "      <td>533.74</td>\n",
       "      <td>1.62</td>\n",
       "      <td>2017-01-01 02:00:00</td>\n",
       "    </tr>\n",
       "    <tr>\n",
       "      <th>4</th>\n",
       "      <td>2054</td>\n",
       "      <td>2092</td>\n",
       "      <td>108.38</td>\n",
       "      <td>134.80</td>\n",
       "      <td>81.02</td>\n",
       "      <td>1.79</td>\n",
       "      <td>2017-01-01 01:00:00</td>\n",
       "    </tr>\n",
       "  </tbody>\n",
       "</table>\n",
       "</div>"
      ],
      "text/plain": [
       "   sourceid  dstid  tt_mean    tt_sd  tt_g_mean  tt_g_sd                  ts\n",
       "0      2074   1860  1314.00  1211.32     951.35     2.10 2017-01-01 02:00:00\n",
       "1      2022   2042    78.67    35.60      73.16     1.42 2017-01-01 01:00:00\n",
       "2      2044   2092   949.67  1807.45     253.75     3.81 2017-01-01 02:00:00\n",
       "3      2081   1786   615.33   399.86     533.74     1.62 2017-01-01 02:00:00\n",
       "4      2054   2092   108.38   134.80      81.02     1.79 2017-01-01 01:00:00"
      ]
     },
     "execution_count": 24,
     "metadata": {},
     "output_type": "execute_result"
    }
   ],
   "source": [
    "df.head()"
   ]
  },
  {
   "cell_type": "markdown",
   "metadata": {},
   "source": [
    "### Set up for OmniSci data loading"
   ]
  },
  {
   "cell_type": "code",
   "execution_count": 25,
   "metadata": {
    "ExecuteTime": {
     "end_time": "2018-11-03T06:45:19.456093Z",
     "start_time": "2018-11-03T06:45:19.452087Z"
    }
   },
   "outputs": [],
   "source": [
    "# figure out where OmniSci log is, based on environment variables\n",
    "import os\n",
    "MAPD_STORAGE = %env MAPD_STORAGE\n",
    "MAPD_ERROR_LOG = os.path.join(MAPD_STORAGE,'data/mapd_log/mapd_server.ERROR')"
   ]
  },
  {
   "cell_type": "code",
   "execution_count": 26,
   "metadata": {
    "ExecuteTime": {
     "end_time": "2018-11-03T06:45:19.948967Z",
     "start_time": "2018-11-03T06:45:19.487312Z"
    }
   },
   "outputs": [],
   "source": [
    "import sys,traceback\n",
    "from pymapd import connect\n",
    "con = connect(user=\"mapd\", password=\"HyperInteractive!\", host=\"localhost\", dbname=\"mapd\")\n",
    "\n",
    "def mapdql(query):\n",
    "    if con is None: # refresh if needed\n",
    "        print('Connection bad or stale')\n",
    "        return None\n",
    "    try:\n",
    "        print('Executing query: {}'.format(query))\n",
    "        results = con.execute(query)\n",
    "        return results\n",
    "    except:\n",
    "        print('Exception executing query')\n",
    "        a,b,c = sys.exc_info()\n",
    "        for d in traceback.format_exception(a,b,c) :\n",
    "           print (d)\n",
    "        return None"
   ]
  },
  {
   "cell_type": "code",
   "execution_count": 27,
   "metadata": {
    "ExecuteTime": {
     "end_time": "2018-11-03T06:45:20.088455Z",
     "start_time": "2018-11-03T06:45:19.983268Z"
    }
   },
   "outputs": [
    {
     "name": "stdout",
     "output_type": "stream",
     "text": [
      "Trying to drop prior table version if any\n",
      "...succeeded.\n"
     ]
    }
   ],
   "source": [
    "# drop any prior version to avoid confusion\n",
    "\n",
    "table_name = 'uber_travel_times_{}'.format(date_in_filename)\n",
    "\n",
    "query = 'DROP TABLE {};'.format(table_name)\n",
    "try:\n",
    "    print(\"Trying to drop prior table version if any\")\n",
    "    con.execute(query)\n",
    "    print('...succeeded.')\n",
    "except:\n",
    "    print('Could not drop prior table version - perhaps nonexistent?')"
   ]
  },
  {
   "cell_type": "code",
   "execution_count": 28,
   "metadata": {
    "ExecuteTime": {
     "end_time": "2018-11-03T06:45:20.122081Z",
     "start_time": "2018-11-03T06:45:20.116931Z"
    }
   },
   "outputs": [
    {
     "data": {
      "text/plain": [
       "'CREATE TABLE uber_travel_times_20170101 (sourceid BIGINT ENCODING FIXED(16), dstid BIGINT ENCODING FIXED(16), tt_mean DOUBLE, tt_sd DOUBLE, tt_g_mean DOUBLE, tt_g_sd DOUBLE, date_hour TIMESTAMP);'"
      ]
     },
     "execution_count": 28,
     "metadata": {},
     "output_type": "execute_result"
    }
   ],
   "source": [
    "query = 'CREATE TABLE {} ('.format(table_name)\n",
    "query +=   'sourceid BIGINT ENCODING FIXED(16), '\n",
    "query +=   'dstid BIGINT ENCODING FIXED(16), '\n",
    "query +=   'tt_mean DOUBLE, tt_sd DOUBLE, tt_g_mean DOUBLE, tt_g_sd DOUBLE, '\n",
    "query +=    'date_hour TIMESTAMP'\n",
    "query += ');'\n",
    "query"
   ]
  },
  {
   "cell_type": "code",
   "execution_count": 29,
   "metadata": {
    "ExecuteTime": {
     "end_time": "2018-11-03T06:45:20.195965Z",
     "start_time": "2018-11-03T06:45:20.150670Z"
    }
   },
   "outputs": [],
   "source": [
    "try:\n",
    "    result = con.execute(query)\n",
    "    if (result is None):\n",
    "        print(\"Created table successfully.\")\n",
    "except:\n",
    "    print('Exception creating table')\n",
    "    a,b,c = sys.exc_info()\n",
    "    for d in traceback.format_exception(a,b,c) :\n",
    "       print (d)\n",
    "    print('last line of Mapd Server Error log reads:')\n",
    "    !tail -1 {MAPD_ERROR_LOG}"
   ]
  },
  {
   "cell_type": "code",
   "execution_count": 30,
   "metadata": {
    "ExecuteTime": {
     "end_time": "2018-11-03T06:45:21.594745Z",
     "start_time": "2018-11-03T06:45:20.223585Z"
    }
   },
   "outputs": [
    {
     "name": "stdout",
     "output_type": "stream",
     "text": [
      "Table loaded successfully.\n"
     ]
    }
   ],
   "source": [
    "try:\n",
    "    result = con.load_table(table_name, df) # , create=True\n",
    "    if (result is None):\n",
    "        print(\"Table loaded successfully.\")\n",
    "except:\n",
    "    print('Exception executing query')\n",
    "    a,b,c = sys.exc_info()\n",
    "    for d in traceback.format_exception(a,b,c) :\n",
    "       print (d)\n",
    "    print('last line of Mapd Server Error log reads:')\n",
    "    !tail -1 {MAPD_ERROR_LOG}"
   ]
  },
  {
   "cell_type": "markdown",
   "metadata": {},
   "source": [
    "### Example of Geospatial Data Load from a geojson file zip archive"
   ]
  },
  {
   "cell_type": "code",
   "execution_count": null,
   "metadata": {
    "ExecuteTime": {
     "end_time": "2018-11-02T20:33:02.262771Z",
     "start_time": "2018-11-02T20:33:02.260260Z"
    }
   },
   "outputs": [],
   "source": [
    "# hmm, SF Open data TAZ polygons imported with string column types"
   ]
  },
  {
   "cell_type": "code",
   "execution_count": null,
   "metadata": {
    "ExecuteTime": {
     "end_time": "2018-11-03T00:23:20.920233Z",
     "start_time": "2018-11-03T00:23:20.917396Z"
    }
   },
   "outputs": [],
   "source": [
    "import_json_file = 'san_francisco_taz.json.zip'\n",
    "geo_table = 'sf_taz_uber'"
   ]
  },
  {
   "cell_type": "code",
   "execution_count": null,
   "metadata": {
    "ExecuteTime": {
     "end_time": "2018-11-03T00:24:44.819365Z",
     "start_time": "2018-11-03T00:24:44.806759Z"
    }
   },
   "outputs": [],
   "source": [
    "import os\n",
    "cwd_list = !pwd\n",
    "cwd = cwd_list[0]\n",
    "import_json_path = os.path.join(cwd, import_json_file)"
   ]
  },
  {
   "cell_type": "code",
   "execution_count": null,
   "metadata": {
    "ExecuteTime": {
     "end_time": "2018-11-03T00:24:49.458983Z",
     "start_time": "2018-11-03T00:24:49.455943Z"
    }
   },
   "outputs": [],
   "source": [
    "query = \"COPY {} FROM '{}' WITH (GEO='True');\".format(geo_table, import_json_path)"
   ]
  },
  {
   "cell_type": "code",
   "execution_count": null,
   "metadata": {
    "ExecuteTime": {
     "end_time": "2018-11-03T00:24:52.762335Z",
     "start_time": "2018-11-03T00:24:50.229738Z"
    }
   },
   "outputs": [],
   "source": [
    "try:\n",
    "    result = con.execute(query) # , create=True\n",
    "    if (result is None):\n",
    "        print(\"geoJSON file loaded successfully.\")\n",
    "except:\n",
    "    print('Exception executing query')\n",
    "    a,b,c = sys.exc_info()\n",
    "    for d in traceback.format_exception(a,b,c) :\n",
    "       print (d)\n",
    "    print('last line of Mapd Server Error log reads:')\n",
    "    !tail -1 {MAPD_ERROR_LOG}"
   ]
  },
  {
   "cell_type": "code",
   "execution_count": null,
   "metadata": {
    "ExecuteTime": {
     "end_time": "2018-11-03T00:28:27.333981Z",
     "start_time": "2018-11-03T00:28:27.330789Z"
    }
   },
   "outputs": [],
   "source": [
    "query = 'ALTER TABLE {} ADD COLUMN {} BIGINT'.format(geo_table, 'taz_uber')"
   ]
  },
  {
   "cell_type": "code",
   "execution_count": null,
   "metadata": {
    "ExecuteTime": {
     "end_time": "2018-11-03T00:28:27.943625Z",
     "start_time": "2018-11-03T00:28:27.856582Z"
    }
   },
   "outputs": [],
   "source": [
    "try:\n",
    "    result = con.execute(query) # , create=True\n",
    "    if (result is None):\n",
    "        print(\"alter table successfully.\")\n",
    "except:\n",
    "    print('Exception executing query')\n",
    "    a,b,c = sys.exc_info()\n",
    "    for d in traceback.format_exception(a,b,c) :\n",
    "       print (d)\n",
    "    print('last line of Mapd Server Error log reads:')\n",
    "    !tail -1 {MAPD_ERROR_LOG}"
   ]
  },
  {
   "cell_type": "code",
   "execution_count": null,
   "metadata": {
    "ExecuteTime": {
     "end_time": "2018-11-03T00:29:24.057838Z",
     "start_time": "2018-11-03T00:29:24.054853Z"
    }
   },
   "outputs": [],
   "source": [
    "query = 'UPDATE {} SET taz_uber CAST(movement_id as BIGINT)'.format(geo_table)"
   ]
  },
  {
   "cell_type": "code",
   "execution_count": null,
   "metadata": {},
   "outputs": [],
   "source": []
  }
 ],
 "metadata": {
  "kernelspec": {
   "display_name": "Python 3",
   "language": "python",
   "name": "python3"
  },
  "language_info": {
   "codemirror_mode": {
    "name": "ipython",
    "version": 3
   },
   "file_extension": ".py",
   "mimetype": "text/x-python",
   "name": "python",
   "nbconvert_exporter": "python",
   "pygments_lexer": "ipython3",
   "version": "3.5.5"
  },
  "varInspector": {
   "cols": {
    "lenName": 16,
    "lenType": 16,
    "lenVar": 40
   },
   "kernels_config": {
    "python": {
     "delete_cmd_postfix": "",
     "delete_cmd_prefix": "del ",
     "library": "var_list.py",
     "varRefreshCmd": "print(var_dic_list())"
    },
    "r": {
     "delete_cmd_postfix": ") ",
     "delete_cmd_prefix": "rm(",
     "library": "var_list.r",
     "varRefreshCmd": "cat(var_dic_list()) "
    }
   },
   "types_to_exclude": [
    "module",
    "function",
    "builtin_function_or_method",
    "instance",
    "_Feature"
   ],
   "window_display": false
  }
 },
 "nbformat": 4,
 "nbformat_minor": 2
}
